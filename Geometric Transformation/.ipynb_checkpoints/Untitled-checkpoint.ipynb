{
 "cells": [
  {
   "cell_type": "markdown",
   "id": "e2af9edc-1089-4122-9527-fc2dbbfd34e1",
   "metadata": {},
   "source": [
    "# Rotation\n"
   ]
  },
  {
   "cell_type": "code",
   "execution_count": 4,
   "id": "85b5e597-49da-4dae-9e35-d998b37bb2d7",
   "metadata": {},
   "outputs": [],
   "source": [
    "import numpy as np\n",
    "import matplotlib.pyplot as plt\n",
    "import cv2"
   ]
  },
  {
   "cell_type": "code",
   "execution_count": null,
   "id": "a4bce4e4-4b86-45e5-938c-f9b3c787e13d",
   "metadata": {},
   "outputs": [],
   "source": []
  },
  {
   "cell_type": "code",
   "execution_count": 7,
   "id": "dcf9bd7b-6fac-499b-b0b8-2cad6b14fbae",
   "metadata": {},
   "outputs": [],
   "source": [
    "a = 45\n",
    "ca = np.cos(np.deg2rad(a))\n",
    "sa = np.sin(np.deg2rad(a))\n",
    "R = np.array([[ca,-sa],[sa,ca]])\n",
    "rMax, cMax = I_grey.shape[0], I_grey.shape[1]\n",
    "Cords = np.array([[0,0],[0,cMax-1],[rMax-1,0],[rMax-1,cMax-1]])\n",
    "a_dash = R.dot(Cords.T)\n",
    "mins = a_dash.min(axis=1)\n",
    "maxs = a_dash.max(axis=1)\n",
    "minR = np.int64(np.floor(mins[0]))\n",
    "minC = np.int64(np.floor(mins[1]))\n",
    "maxR = np.int64(np.ceil(maxs[0]))\n",
    "maxC = np.int64(np.ceil(maxs[1]))\n",
    "H,W = maxR-minR+1,maxC-minC+1\n",
    "I2 = np.zeros((H,W),dtype='uint8')"
   ]
  },
  {
   "cell_type": "code",
   "execution_count": 9,
   "id": "ce26ece6-0071-43ee-95e4-5e2a05719541",
   "metadata": {},
   "outputs": [
    {
     "data": {
      "text/plain": [
       "array([[ 0.70710678, -0.70710678],\n",
       "       [ 0.70710678,  0.70710678]])"
      ]
     },
     "execution_count": 9,
     "metadata": {},
     "output_type": "execute_result"
    }
   ],
   "source": [
    "R"
   ]
  },
  {
   "cell_type": "code",
   "execution_count": null,
   "id": "1483d2bc-12f1-4ae0-a49d-b6af90148f16",
   "metadata": {},
   "outputs": [],
   "source": []
  },
  {
   "cell_type": "code",
   "execution_count": null,
   "id": "9f2149d8-50bc-4c52-8781-cb7b95d8917a",
   "metadata": {},
   "outputs": [],
   "source": []
  },
  {
   "cell_type": "code",
   "execution_count": null,
   "id": "1ad924ae-f854-44ab-af00-966c2a3d7fb1",
   "metadata": {},
   "outputs": [],
   "source": []
  },
  {
   "cell_type": "code",
   "execution_count": null,
   "id": "a0ccf8cd-fd07-44f3-a532-f1d5c70c8d4b",
   "metadata": {},
   "outputs": [],
   "source": []
  },
  {
   "cell_type": "code",
   "execution_count": null,
   "id": "5927aa3d-e244-453a-9264-7a794887f68f",
   "metadata": {},
   "outputs": [],
   "source": []
  },
  {
   "cell_type": "code",
   "execution_count": null,
   "id": "3c1b9d8e-79f1-4d96-ad4c-67d91aab185c",
   "metadata": {},
   "outputs": [],
   "source": []
  },
  {
   "cell_type": "code",
   "execution_count": null,
   "id": "d0df6dae-fc5a-4381-a9ab-f603fec76bf8",
   "metadata": {},
   "outputs": [],
   "source": []
  },
  {
   "cell_type": "code",
   "execution_count": null,
   "id": "43298cb2-695a-46ac-a993-c32789c1e2b6",
   "metadata": {},
   "outputs": [],
   "source": []
  },
  {
   "cell_type": "code",
   "execution_count": null,
   "id": "86cdc71b-d1a3-41a2-a112-bc332f6e4abb",
   "metadata": {},
   "outputs": [],
   "source": []
  },
  {
   "cell_type": "code",
   "execution_count": null,
   "id": "1d9e048f-9da1-4c19-bcf1-f11f905d4a2a",
   "metadata": {},
   "outputs": [],
   "source": []
  },
  {
   "cell_type": "code",
   "execution_count": null,
   "id": "b6288f60-89a4-49d6-86fd-bd47744ec878",
   "metadata": {},
   "outputs": [],
   "source": []
  },
  {
   "cell_type": "code",
   "execution_count": null,
   "id": "afedb066-c70a-4e8d-9a25-f4ea9000fc62",
   "metadata": {},
   "outputs": [],
   "source": []
  },
  {
   "cell_type": "code",
   "execution_count": null,
   "id": "df817f33-e1e3-4b57-ac4e-e873a0dc4e37",
   "metadata": {},
   "outputs": [],
   "source": []
  },
  {
   "cell_type": "code",
   "execution_count": null,
   "id": "d1519f79-dad1-4aeb-a671-23c8aef340a0",
   "metadata": {},
   "outputs": [],
   "source": []
  },
  {
   "cell_type": "code",
   "execution_count": null,
   "id": "0325ccd6-ae7a-4e12-927a-171c8ba6d330",
   "metadata": {},
   "outputs": [],
   "source": []
  },
  {
   "cell_type": "code",
   "execution_count": null,
   "id": "83628d0b-6a2a-4c81-8009-83b275351dcc",
   "metadata": {},
   "outputs": [],
   "source": []
  },
  {
   "cell_type": "code",
   "execution_count": null,
   "id": "09757a57-0039-4bbb-af7a-add66054b2e9",
   "metadata": {},
   "outputs": [],
   "source": []
  },
  {
   "cell_type": "code",
   "execution_count": null,
   "id": "707901b0-9f12-4258-8009-5389b3ba0b85",
   "metadata": {},
   "outputs": [],
   "source": []
  },
  {
   "cell_type": "code",
   "execution_count": null,
   "id": "6fcc054a-ea25-4026-bea6-02ef682d345c",
   "metadata": {},
   "outputs": [],
   "source": []
  },
  {
   "cell_type": "code",
   "execution_count": null,
   "id": "3b3e5659-e57f-44e2-932c-a64f1d0ffe1f",
   "metadata": {},
   "outputs": [],
   "source": []
  },
  {
   "cell_type": "code",
   "execution_count": null,
   "id": "31009734-42de-459f-a398-49ea26bbfbeb",
   "metadata": {},
   "outputs": [],
   "source": []
  }
 ],
 "metadata": {
  "kernelspec": {
   "display_name": "Python 3 (ipykernel)",
   "language": "python",
   "name": "python3"
  },
  "language_info": {
   "codemirror_mode": {
    "name": "ipython",
    "version": 3
   },
   "file_extension": ".py",
   "mimetype": "text/x-python",
   "name": "python",
   "nbconvert_exporter": "python",
   "pygments_lexer": "ipython3",
   "version": "3.12.3"
  }
 },
 "nbformat": 4,
 "nbformat_minor": 5
}
